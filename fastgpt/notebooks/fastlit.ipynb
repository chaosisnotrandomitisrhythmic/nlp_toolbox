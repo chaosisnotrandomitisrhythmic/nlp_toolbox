{
 "cells": [
  {
   "cell_type": "code",
   "execution_count": 1,
   "metadata": {},
   "outputs": [],
   "source": [
    "from fastlite import database\n",
    "from typing import List\n",
    "\n",
    "db = database(\":memory:\")\n",
    "\n",
    "class Conversation:\n",
    "    id: int\n",
    "    messages: List[dict]\n",
    "    created_at: str\n",
    "    interro_selection: dict\n",
    "\n",
    "\n",
    "dt = db.create(Conversation, pk=\"id\")"
   ]
  },
  {
   "cell_type": "code",
   "execution_count": null,
   "metadata": {},
   "outputs": [],
   "source": [
    "dt.insert(Conversation(messages=\"Hello, world!\", created_at=\"2021-01-01\", interro_selection={\"start_date\": \"2021-01-01\", \"end_date\": \"2021-01-01\"}))"
   ]
  }
 ],
 "metadata": {
  "kernelspec": {
   "display_name": ".venv",
   "language": "python",
   "name": "python3"
  },
  "language_info": {
   "codemirror_mode": {
    "name": "ipython",
    "version": 3
   },
   "file_extension": ".py",
   "mimetype": "text/x-python",
   "name": "python",
   "nbconvert_exporter": "python",
   "pygments_lexer": "ipython3",
   "version": "3.12.2"
  }
 },
 "nbformat": 4,
 "nbformat_minor": 2
}
