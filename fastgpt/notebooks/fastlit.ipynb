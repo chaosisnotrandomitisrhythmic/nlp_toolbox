{
 "cells": [
  {
   "cell_type": "code",
   "execution_count": 4,
   "metadata": {},
   "outputs": [],
   "source": [
    "from fastlite import database\n",
    "from typing import List\n",
    "from datetime import datetime\n",
    "import json\n",
    "\n",
    "\n",
    "db = database(\"data/test_db\")\n",
    "\n",
    "class Conversation:\n",
    "    id: int\n",
    "    messages: str\n",
    "    created_at: str\n",
    "    interro_selection: str\n",
    "\n",
    "\n",
    "dt = db.create(Conversation, pk=\"id\")"
   ]
  },
  {
   "cell_type": "code",
   "execution_count": 5,
   "metadata": {},
   "outputs": [
    {
     "data": {
      "text/plain": [
       "Conversation(id=1, messages='Hello, world!', created_at='2021-01-01', interro_selection='{\"start_date\": \"2021-01-01\", \"end_date\": \"2021-01-01\"}')"
      ]
     },
     "execution_count": 5,
     "metadata": {},
     "output_type": "execute_result"
    }
   ],
   "source": [
    "dt.insert(\n",
    "    Conversation(\n",
    "        messages=\"Hello, world!\",\n",
    "        created_at=\"2021-01-01\",\n",
    "        interro_selection={\"start_date\": \"2021-01-01\", \"end_date\": \"2021-01-01\"},\n",
    "    )\n",
    ")"
   ]
  },
  {
   "cell_type": "code",
   "execution_count": null,
   "metadata": {},
   "outputs": [],
   "source": [
    "example_seletion = {\n",
    "    \"user_selections\": {\n",
    "        \"start_date\": \"2024-01-01\",\n",
    "        \"end_date\": \"2024-01-31\",\n",
    "        \"business_unit\": \"OBU\",\n",
    "        \"hierarchical_disease_indications\": [\n",
    "            {\n",
    "                \"disease_indication_1\": [\"Endometrial Cancer\"],\n",
    "                \"disease_indication_2\": [\"Diagnostics\"],\n",
    "            },\n",
    "            {\n",
    "                \"disease_indication_1\": [\"Endometrial Cancer\"],\n",
    "                \"disease_indication_2\": [\"AZD8205 Phase1\"],\n",
    "            },\n",
    "            {\n",
    "                \"disease_indication_1\": [\"Head and Neck Cancer\"],\n",
    "                \"disease_indication_2\": [\"eVOLVE-HNSCC\"],\n",
    "            },\n",
    "            {\"disease_indication_1\": [\"Head and Neck Cancer\"]},\n",
    "            {\"disease_indication_1\": [\"Hematology\"], \"disease_indication_2\": [\"DLBCL\"]},\n",
    "            {\"disease_indication_1\": [\"BTC\"], \"disease_indication_2\": [\"Neoadjuvant\"]},\n",
    "            {\n",
    "                \"disease_indication_1\": [\"Gastric Cancer\"],\n",
    "                \"disease_indication_2\": [\"MATTERHORN\"],\n",
    "            },\n",
    "            {\n",
    "                \"disease_indication_1\": [\"Lung Cancer\"],\n",
    "                \"disease_indication_2\": [\"Extensive Stage SCLC\"],\n",
    "                \"disease_indication_3\": [\"Clinical Trial\"],\n",
    "                \"disease_indication_4\": [\"COASTWIND\"],\n",
    "            },\n",
    "        ],\n",
    "    }\n",
    "}"
   ]
  },
  {
   "cell_type": "code",
   "execution_count": null,
   "metadata": {},
   "outputs": [],
   "source": []
  },
  {
   "cell_type": "code",
   "execution_count": null,
   "metadata": {},
   "outputs": [],
   "source": []
  },
  {
   "cell_type": "code",
   "execution_count": 5,
   "metadata": {},
   "outputs": [
    {
     "ename": "KeyError",
     "evalue": "typing.List",
     "output_type": "error",
     "traceback": [
      "\u001b[31m---------------------------------------------------------------------------\u001b[39m",
      "\u001b[31mKeyError\u001b[39m                                  Traceback (most recent call last)",
      "\u001b[36mCell\u001b[39m\u001b[36m \u001b[39m\u001b[32mIn[5]\u001b[39m\u001b[32m, line 52\u001b[39m\n\u001b[32m     48\u001b[39m     created_at: \u001b[38;5;28mstr\u001b[39m\n\u001b[32m     49\u001b[39m     user_id: \u001b[38;5;28mstr\u001b[39m\n\u001b[32m---> \u001b[39m\u001b[32m52\u001b[39m todos = \u001b[43mdb\u001b[49m\u001b[43m.\u001b[49m\u001b[43mcreate\u001b[49m\u001b[43m(\u001b[49m\u001b[43mTodo\u001b[49m\u001b[43m)\u001b[49m\n\u001b[32m     53\u001b[39m todos\n",
      "\u001b[36mFile \u001b[39m\u001b[32m~/Desktop/nlp_toolbox/fastgpt/.venv/lib/python3.12/site-packages/fastlite/core.py:216\u001b[39m, in \u001b[36mcreate\u001b[39m\u001b[34m(self, cls, name, pk, foreign_keys, defaults, column_order, not_null, hash_id, hash_id_columns, extracts, if_not_exists, replace, ignore, transform, strict)\u001b[39m\n\u001b[32m    214\u001b[39m \u001b[38;5;28;01mif\u001b[39;00m name \u001b[38;5;129;01mis\u001b[39;00m \u001b[38;5;28;01mNone\u001b[39;00m: name = camel2snake(\u001b[38;5;28mcls\u001b[39m.\u001b[34m__name__\u001b[39m)\n\u001b[32m    215\u001b[39m typs = {o.name: get_typ(o.type) \u001b[38;5;28;01mfor\u001b[39;00m o \u001b[38;5;129;01min\u001b[39;00m fields(\u001b[38;5;28mcls\u001b[39m)}\n\u001b[32m--> \u001b[39m\u001b[32m216\u001b[39m res = \u001b[38;5;28;43mself\u001b[39;49m\u001b[43m.\u001b[49m\u001b[43mcreate_table\u001b[49m\u001b[43m(\u001b[49m\n\u001b[32m    217\u001b[39m \u001b[43m    \u001b[49m\u001b[43mname\u001b[49m\u001b[43m,\u001b[49m\u001b[43m \u001b[49m\u001b[43mtyps\u001b[49m\u001b[43m,\u001b[49m\u001b[43m \u001b[49m\u001b[43mdefaults\u001b[49m\u001b[43m=\u001b[49m\u001b[43mdefaults\u001b[49m\u001b[43m,\u001b[49m\n\u001b[32m    218\u001b[39m \u001b[43m    \u001b[49m\u001b[43mpk\u001b[49m\u001b[43m=\u001b[49m\u001b[43mpk\u001b[49m\u001b[43m,\u001b[49m\u001b[43m \u001b[49m\u001b[43mforeign_keys\u001b[49m\u001b[43m=\u001b[49m\u001b[43mforeign_keys\u001b[49m\u001b[43m,\u001b[49m\u001b[43m \u001b[49m\u001b[43mcolumn_order\u001b[49m\u001b[43m=\u001b[49m\u001b[43mcolumn_order\u001b[49m\u001b[43m,\u001b[49m\u001b[43m \u001b[49m\u001b[43mnot_null\u001b[49m\u001b[43m=\u001b[49m\u001b[43mnot_null\u001b[49m\u001b[43m,\u001b[49m\n\u001b[32m    219\u001b[39m \u001b[43m    \u001b[49m\u001b[43mhash_id\u001b[49m\u001b[43m=\u001b[49m\u001b[43mhash_id\u001b[49m\u001b[43m,\u001b[49m\u001b[43m \u001b[49m\u001b[43mhash_id_columns\u001b[49m\u001b[43m=\u001b[49m\u001b[43mhash_id_columns\u001b[49m\u001b[43m,\u001b[49m\u001b[43m \u001b[49m\u001b[43mextracts\u001b[49m\u001b[43m=\u001b[49m\u001b[43mextracts\u001b[49m\u001b[43m,\u001b[49m\u001b[43m \u001b[49m\u001b[43mtransform\u001b[49m\u001b[43m=\u001b[49m\u001b[43mtransform\u001b[49m\u001b[43m,\u001b[49m\n\u001b[32m    220\u001b[39m \u001b[43m    \u001b[49m\u001b[43mif_not_exists\u001b[49m\u001b[43m=\u001b[49m\u001b[43mif_not_exists\u001b[49m\u001b[43m,\u001b[49m\u001b[43m \u001b[49m\u001b[43mreplace\u001b[49m\u001b[43m=\u001b[49m\u001b[43mreplace\u001b[49m\u001b[43m,\u001b[49m\u001b[43m \u001b[49m\u001b[43mignore\u001b[49m\u001b[43m=\u001b[49m\u001b[43mignore\u001b[49m\u001b[43m,\u001b[49m\u001b[43m \u001b[49m\u001b[43mstrict\u001b[49m\u001b[43m=\u001b[49m\u001b[43mstrict\u001b[49m\u001b[43m)\u001b[49m\n\u001b[32m    221\u001b[39m res.cls = \u001b[38;5;28mcls\u001b[39m\n\u001b[32m    222\u001b[39m \u001b[38;5;28;01mreturn\u001b[39;00m res\n",
      "\u001b[36mFile \u001b[39m\u001b[32m~/Desktop/nlp_toolbox/fastgpt/.venv/lib/python3.12/site-packages/apswutils/db.py:1001\u001b[39m, in \u001b[36mDatabase.create_table\u001b[39m\u001b[34m(self, name, columns, pk, foreign_keys, column_order, not_null, defaults, hash_id, hash_id_columns, extracts, if_not_exists, replace, ignore, transform, strict)\u001b[39m\n\u001b[32m    993\u001b[39m         table.transform(\n\u001b[32m    994\u001b[39m             types=columns,\n\u001b[32m    995\u001b[39m             column_order=column_order,\n\u001b[32m   (...)\u001b[39m\u001b[32m    998\u001b[39m             pk=pk,\n\u001b[32m    999\u001b[39m         )\n\u001b[32m   1000\u001b[39m     \u001b[38;5;28;01mreturn\u001b[39;00m table\n\u001b[32m-> \u001b[39m\u001b[32m1001\u001b[39m sql = \u001b[38;5;28;43mself\u001b[39;49m\u001b[43m.\u001b[49m\u001b[43mcreate_table_sql\u001b[49m\u001b[43m(\u001b[49m\n\u001b[32m   1002\u001b[39m \u001b[43m    \u001b[49m\u001b[43mname\u001b[49m\u001b[43m=\u001b[49m\u001b[43mname\u001b[49m\u001b[43m,\u001b[49m\n\u001b[32m   1003\u001b[39m \u001b[43m    \u001b[49m\u001b[43mcolumns\u001b[49m\u001b[43m=\u001b[49m\u001b[43mcolumns\u001b[49m\u001b[43m,\u001b[49m\n\u001b[32m   1004\u001b[39m \u001b[43m    \u001b[49m\u001b[43mpk\u001b[49m\u001b[43m=\u001b[49m\u001b[43mpk\u001b[49m\u001b[43m,\u001b[49m\n\u001b[32m   1005\u001b[39m \u001b[43m    \u001b[49m\u001b[43mforeign_keys\u001b[49m\u001b[43m=\u001b[49m\u001b[43mforeign_keys\u001b[49m\u001b[43m,\u001b[49m\n\u001b[32m   1006\u001b[39m \u001b[43m    \u001b[49m\u001b[43mcolumn_order\u001b[49m\u001b[43m=\u001b[49m\u001b[43mcolumn_order\u001b[49m\u001b[43m,\u001b[49m\n\u001b[32m   1007\u001b[39m \u001b[43m    \u001b[49m\u001b[43mnot_null\u001b[49m\u001b[43m=\u001b[49m\u001b[43mnot_null\u001b[49m\u001b[43m,\u001b[49m\n\u001b[32m   1008\u001b[39m \u001b[43m    \u001b[49m\u001b[43mdefaults\u001b[49m\u001b[43m=\u001b[49m\u001b[43mdefaults\u001b[49m\u001b[43m,\u001b[49m\n\u001b[32m   1009\u001b[39m \u001b[43m    \u001b[49m\u001b[43mhash_id\u001b[49m\u001b[43m=\u001b[49m\u001b[43mhash_id\u001b[49m\u001b[43m,\u001b[49m\n\u001b[32m   1010\u001b[39m \u001b[43m    \u001b[49m\u001b[43mhash_id_columns\u001b[49m\u001b[43m=\u001b[49m\u001b[43mhash_id_columns\u001b[49m\u001b[43m,\u001b[49m\n\u001b[32m   1011\u001b[39m \u001b[43m    \u001b[49m\u001b[43mextracts\u001b[49m\u001b[43m=\u001b[49m\u001b[43mextracts\u001b[49m\u001b[43m,\u001b[49m\n\u001b[32m   1012\u001b[39m \u001b[43m    \u001b[49m\u001b[43mif_not_exists\u001b[49m\u001b[43m=\u001b[49m\u001b[43mif_not_exists\u001b[49m\u001b[43m,\u001b[49m\n\u001b[32m   1013\u001b[39m \u001b[43m    \u001b[49m\u001b[43mstrict\u001b[49m\u001b[43m=\u001b[49m\u001b[43mstrict\u001b[49m\u001b[43m,\u001b[49m\n\u001b[32m   1014\u001b[39m \u001b[43m\u001b[49m\u001b[43m)\u001b[49m\n\u001b[32m   1015\u001b[39m \u001b[38;5;28mself\u001b[39m.execute(sql)\n\u001b[32m   1016\u001b[39m created_table = \u001b[38;5;28mself\u001b[39m.table(\n\u001b[32m   1017\u001b[39m     name,\n\u001b[32m   1018\u001b[39m     pk=pk,\n\u001b[32m   (...)\u001b[39m\u001b[32m   1024\u001b[39m     hash_id_columns=hash_id_columns,\n\u001b[32m   1025\u001b[39m )\n",
      "\u001b[36mFile \u001b[39m\u001b[32m~/Desktop/nlp_toolbox/fastgpt/.venv/lib/python3.12/site-packages/apswutils/db.py:879\u001b[39m, in \u001b[36mDatabase.create_table_sql\u001b[39m\u001b[34m(self, name, columns, pk, foreign_keys, column_order, not_null, defaults, hash_id, hash_id_columns, extracts, if_not_exists, strict)\u001b[39m\n\u001b[32m    869\u001b[39m     \u001b[38;5;28;01mif\u001b[39;00m column_name \u001b[38;5;129;01min\u001b[39;00m foreign_keys_by_column:\n\u001b[32m    870\u001b[39m         column_extras.append(\n\u001b[32m    871\u001b[39m             \u001b[33m\"\u001b[39m\u001b[33mREFERENCES [\u001b[39m\u001b[38;5;132;01m{other_table}\u001b[39;00m\u001b[33m]([\u001b[39m\u001b[38;5;132;01m{other_column}\u001b[39;00m\u001b[33m]) ON UPDATE CASCADE ON DELETE CASCADE\u001b[39m\u001b[33m\"\u001b[39m.format(\n\u001b[32m    872\u001b[39m                 other_table=foreign_keys_by_column[column_name].other_table,\n\u001b[32m    873\u001b[39m                 other_column=foreign_keys_by_column[column_name].other_column,\n\u001b[32m    874\u001b[39m             )\n\u001b[32m    875\u001b[39m         )\n\u001b[32m    876\u001b[39m     column_defs.append(\n\u001b[32m    877\u001b[39m         \u001b[33m\"\u001b[39m\u001b[33m   [\u001b[39m\u001b[38;5;132;01m{column_name}\u001b[39;00m\u001b[33m] \u001b[39m\u001b[38;5;132;01m{column_type}\u001b[39;00m\u001b[38;5;132;01m{column_extras}\u001b[39;00m\u001b[33m\"\u001b[39m.format(\n\u001b[32m    878\u001b[39m             column_name=column_name,\n\u001b[32m--> \u001b[39m\u001b[32m879\u001b[39m             column_type=\u001b[43mCOLUMN_TYPE_MAPPING\u001b[49m\u001b[43m[\u001b[49m\u001b[43mcolumn_type\u001b[49m\u001b[43m]\u001b[49m,\n\u001b[32m    880\u001b[39m             column_extras=(\n\u001b[32m    881\u001b[39m                 (\u001b[33m\"\u001b[39m\u001b[33m \u001b[39m\u001b[33m\"\u001b[39m + \u001b[33m\"\u001b[39m\u001b[33m \u001b[39m\u001b[33m\"\u001b[39m.join(column_extras)) \u001b[38;5;28;01mif\u001b[39;00m column_extras \u001b[38;5;28;01melse\u001b[39;00m \u001b[33m\"\u001b[39m\u001b[33m\"\u001b[39m\n\u001b[32m    882\u001b[39m             ),\n\u001b[32m    883\u001b[39m         )\n\u001b[32m    884\u001b[39m     )\n\u001b[32m    885\u001b[39m extra_pk = \u001b[33m\"\u001b[39m\u001b[33m\"\u001b[39m\n\u001b[32m    886\u001b[39m \u001b[38;5;28;01mif\u001b[39;00m single_pk \u001b[38;5;129;01mis\u001b[39;00m \u001b[38;5;28;01mNone\u001b[39;00m \u001b[38;5;129;01mand\u001b[39;00m pk \u001b[38;5;129;01mand\u001b[39;00m \u001b[38;5;28mlen\u001b[39m(pk) > \u001b[32m1\u001b[39m:\n",
      "\u001b[31mKeyError\u001b[39m: typing.List"
     ]
    }
   ],
   "source": [
    "from dataclasses import dataclass\n",
    "from typing import List\n",
    "from fastlite import *\n",
    "\n",
    "\n",
    "example_seletion = {\n",
    "    \"user_selections\": {\n",
    "        \"start_date\": \"2024-01-01\",\n",
    "        \"end_date\": \"2024-01-31\",\n",
    "        \"business_unit\": \"OBU\",\n",
    "        \"hierarchical_disease_indications\": [\n",
    "            {\n",
    "                \"disease_indication_1\": [\"Endometrial Cancer\"],\n",
    "                \"disease_indication_2\": [\"Diagnostics\"],\n",
    "            },\n",
    "            {\n",
    "                \"disease_indication_1\": [\"Endometrial Cancer\"],\n",
    "                \"disease_indication_2\": [\"AZD8205 Phase1\"],\n",
    "            },\n",
    "            {\n",
    "                \"disease_indication_1\": [\"Head and Neck Cancer\"],\n",
    "                \"disease_indication_2\": [\"eVOLVE-HNSCC\"],\n",
    "            },\n",
    "            {\"disease_indication_1\": [\"Head and Neck Cancer\"]},\n",
    "            {\"disease_indication_1\": [\"Hematology\"], \"disease_indication_2\": [\"DLBCL\"]},\n",
    "            {\"disease_indication_1\": [\"BTC\"], \"disease_indication_2\": [\"Neoadjuvant\"]},\n",
    "            {\n",
    "                \"disease_indication_1\": [\"Gastric Cancer\"],\n",
    "                \"disease_indication_2\": [\"MATTERHORN\"],\n",
    "            },\n",
    "            {\n",
    "                \"disease_indication_1\": [\"Lung Cancer\"],\n",
    "                \"disease_indication_2\": [\"Extensive Stage SCLC\"],\n",
    "                \"disease_indication_3\": [\"Clinical Trial\"],\n",
    "                \"disease_indication_4\": [\"COASTWIND\"],\n",
    "            },\n",
    "        ],\n",
    "    }\n",
    "}\n",
    "\n",
    "db = database(\":memory:\")\n",
    "\n",
    "\n",
    "@dataclass\n",
    "class Todo:\n",
    "    id: int\n",
    "    messages: List\n",
    "    created_at: str\n",
    "    user_id: str\n",
    "\n",
    "\n",
    "todos = db.create(Todo)\n",
    "todos"
   ]
  },
  {
   "cell_type": "code",
   "execution_count": null,
   "metadata": {},
   "outputs": [
    {
     "ename": "KeyError",
     "evalue": "typing.List",
     "output_type": "error",
     "traceback": [
      "\u001b[31m---------------------------------------------------------------------------\u001b[39m",
      "\u001b[31mKeyError\u001b[39m                                  Traceback (most recent call last)",
      "\u001b[36mCell\u001b[39m\u001b[36m \u001b[39m\u001b[32mIn[2]\u001b[39m\u001b[32m, line 12\u001b[39m\n\u001b[32m      8\u001b[39m     created_at: datetime\n\u001b[32m      9\u001b[39m     user_id: \u001b[38;5;28mstr\u001b[39m\n\u001b[32m---> \u001b[39m\u001b[32m12\u001b[39m dt = \u001b[43mdb\u001b[49m\u001b[43m.\u001b[49m\u001b[43mcreate\u001b[49m\u001b[43m(\u001b[49m\u001b[43mConversation\u001b[49m\u001b[43m,\u001b[49m\u001b[43m \u001b[49m\u001b[43mpk\u001b[49m\u001b[43m=\u001b[49m\u001b[33;43m\"\u001b[39;49m\u001b[33;43mid\u001b[39;49m\u001b[33;43m\"\u001b[39;49m\u001b[43m)\u001b[49m\n",
      "\u001b[36mFile \u001b[39m\u001b[32m~/Desktop/nlp_toolbox/fastgpt/.venv/lib/python3.12/site-packages/fastlite/core.py:216\u001b[39m, in \u001b[36mcreate\u001b[39m\u001b[34m(self, cls, name, pk, foreign_keys, defaults, column_order, not_null, hash_id, hash_id_columns, extracts, if_not_exists, replace, ignore, transform, strict)\u001b[39m\n\u001b[32m    214\u001b[39m \u001b[38;5;28;01mif\u001b[39;00m name \u001b[38;5;129;01mis\u001b[39;00m \u001b[38;5;28;01mNone\u001b[39;00m: name = camel2snake(\u001b[38;5;28mcls\u001b[39m.\u001b[34m__name__\u001b[39m)\n\u001b[32m    215\u001b[39m typs = {o.name: get_typ(o.type) \u001b[38;5;28;01mfor\u001b[39;00m o \u001b[38;5;129;01min\u001b[39;00m fields(\u001b[38;5;28mcls\u001b[39m)}\n\u001b[32m--> \u001b[39m\u001b[32m216\u001b[39m res = \u001b[38;5;28;43mself\u001b[39;49m\u001b[43m.\u001b[49m\u001b[43mcreate_table\u001b[49m\u001b[43m(\u001b[49m\n\u001b[32m    217\u001b[39m \u001b[43m    \u001b[49m\u001b[43mname\u001b[49m\u001b[43m,\u001b[49m\u001b[43m \u001b[49m\u001b[43mtyps\u001b[49m\u001b[43m,\u001b[49m\u001b[43m \u001b[49m\u001b[43mdefaults\u001b[49m\u001b[43m=\u001b[49m\u001b[43mdefaults\u001b[49m\u001b[43m,\u001b[49m\n\u001b[32m    218\u001b[39m \u001b[43m    \u001b[49m\u001b[43mpk\u001b[49m\u001b[43m=\u001b[49m\u001b[43mpk\u001b[49m\u001b[43m,\u001b[49m\u001b[43m \u001b[49m\u001b[43mforeign_keys\u001b[49m\u001b[43m=\u001b[49m\u001b[43mforeign_keys\u001b[49m\u001b[43m,\u001b[49m\u001b[43m \u001b[49m\u001b[43mcolumn_order\u001b[49m\u001b[43m=\u001b[49m\u001b[43mcolumn_order\u001b[49m\u001b[43m,\u001b[49m\u001b[43m \u001b[49m\u001b[43mnot_null\u001b[49m\u001b[43m=\u001b[49m\u001b[43mnot_null\u001b[49m\u001b[43m,\u001b[49m\n\u001b[32m    219\u001b[39m \u001b[43m    \u001b[49m\u001b[43mhash_id\u001b[49m\u001b[43m=\u001b[49m\u001b[43mhash_id\u001b[49m\u001b[43m,\u001b[49m\u001b[43m \u001b[49m\u001b[43mhash_id_columns\u001b[49m\u001b[43m=\u001b[49m\u001b[43mhash_id_columns\u001b[49m\u001b[43m,\u001b[49m\u001b[43m \u001b[49m\u001b[43mextracts\u001b[49m\u001b[43m=\u001b[49m\u001b[43mextracts\u001b[49m\u001b[43m,\u001b[49m\u001b[43m \u001b[49m\u001b[43mtransform\u001b[49m\u001b[43m=\u001b[49m\u001b[43mtransform\u001b[49m\u001b[43m,\u001b[49m\n\u001b[32m    220\u001b[39m \u001b[43m    \u001b[49m\u001b[43mif_not_exists\u001b[49m\u001b[43m=\u001b[49m\u001b[43mif_not_exists\u001b[49m\u001b[43m,\u001b[49m\u001b[43m \u001b[49m\u001b[43mreplace\u001b[49m\u001b[43m=\u001b[49m\u001b[43mreplace\u001b[49m\u001b[43m,\u001b[49m\u001b[43m \u001b[49m\u001b[43mignore\u001b[49m\u001b[43m=\u001b[49m\u001b[43mignore\u001b[49m\u001b[43m,\u001b[49m\u001b[43m \u001b[49m\u001b[43mstrict\u001b[49m\u001b[43m=\u001b[49m\u001b[43mstrict\u001b[49m\u001b[43m)\u001b[49m\n\u001b[32m    221\u001b[39m res.cls = \u001b[38;5;28mcls\u001b[39m\n\u001b[32m    222\u001b[39m \u001b[38;5;28;01mreturn\u001b[39;00m res\n",
      "\u001b[36mFile \u001b[39m\u001b[32m~/Desktop/nlp_toolbox/fastgpt/.venv/lib/python3.12/site-packages/apswutils/db.py:1001\u001b[39m, in \u001b[36mDatabase.create_table\u001b[39m\u001b[34m(self, name, columns, pk, foreign_keys, column_order, not_null, defaults, hash_id, hash_id_columns, extracts, if_not_exists, replace, ignore, transform, strict)\u001b[39m\n\u001b[32m    993\u001b[39m         table.transform(\n\u001b[32m    994\u001b[39m             types=columns,\n\u001b[32m    995\u001b[39m             column_order=column_order,\n\u001b[32m   (...)\u001b[39m\u001b[32m    998\u001b[39m             pk=pk,\n\u001b[32m    999\u001b[39m         )\n\u001b[32m   1000\u001b[39m     \u001b[38;5;28;01mreturn\u001b[39;00m table\n\u001b[32m-> \u001b[39m\u001b[32m1001\u001b[39m sql = \u001b[38;5;28;43mself\u001b[39;49m\u001b[43m.\u001b[49m\u001b[43mcreate_table_sql\u001b[49m\u001b[43m(\u001b[49m\n\u001b[32m   1002\u001b[39m \u001b[43m    \u001b[49m\u001b[43mname\u001b[49m\u001b[43m=\u001b[49m\u001b[43mname\u001b[49m\u001b[43m,\u001b[49m\n\u001b[32m   1003\u001b[39m \u001b[43m    \u001b[49m\u001b[43mcolumns\u001b[49m\u001b[43m=\u001b[49m\u001b[43mcolumns\u001b[49m\u001b[43m,\u001b[49m\n\u001b[32m   1004\u001b[39m \u001b[43m    \u001b[49m\u001b[43mpk\u001b[49m\u001b[43m=\u001b[49m\u001b[43mpk\u001b[49m\u001b[43m,\u001b[49m\n\u001b[32m   1005\u001b[39m \u001b[43m    \u001b[49m\u001b[43mforeign_keys\u001b[49m\u001b[43m=\u001b[49m\u001b[43mforeign_keys\u001b[49m\u001b[43m,\u001b[49m\n\u001b[32m   1006\u001b[39m \u001b[43m    \u001b[49m\u001b[43mcolumn_order\u001b[49m\u001b[43m=\u001b[49m\u001b[43mcolumn_order\u001b[49m\u001b[43m,\u001b[49m\n\u001b[32m   1007\u001b[39m \u001b[43m    \u001b[49m\u001b[43mnot_null\u001b[49m\u001b[43m=\u001b[49m\u001b[43mnot_null\u001b[49m\u001b[43m,\u001b[49m\n\u001b[32m   1008\u001b[39m \u001b[43m    \u001b[49m\u001b[43mdefaults\u001b[49m\u001b[43m=\u001b[49m\u001b[43mdefaults\u001b[49m\u001b[43m,\u001b[49m\n\u001b[32m   1009\u001b[39m \u001b[43m    \u001b[49m\u001b[43mhash_id\u001b[49m\u001b[43m=\u001b[49m\u001b[43mhash_id\u001b[49m\u001b[43m,\u001b[49m\n\u001b[32m   1010\u001b[39m \u001b[43m    \u001b[49m\u001b[43mhash_id_columns\u001b[49m\u001b[43m=\u001b[49m\u001b[43mhash_id_columns\u001b[49m\u001b[43m,\u001b[49m\n\u001b[32m   1011\u001b[39m \u001b[43m    \u001b[49m\u001b[43mextracts\u001b[49m\u001b[43m=\u001b[49m\u001b[43mextracts\u001b[49m\u001b[43m,\u001b[49m\n\u001b[32m   1012\u001b[39m \u001b[43m    \u001b[49m\u001b[43mif_not_exists\u001b[49m\u001b[43m=\u001b[49m\u001b[43mif_not_exists\u001b[49m\u001b[43m,\u001b[49m\n\u001b[32m   1013\u001b[39m \u001b[43m    \u001b[49m\u001b[43mstrict\u001b[49m\u001b[43m=\u001b[49m\u001b[43mstrict\u001b[49m\u001b[43m,\u001b[49m\n\u001b[32m   1014\u001b[39m \u001b[43m\u001b[49m\u001b[43m)\u001b[49m\n\u001b[32m   1015\u001b[39m \u001b[38;5;28mself\u001b[39m.execute(sql)\n\u001b[32m   1016\u001b[39m created_table = \u001b[38;5;28mself\u001b[39m.table(\n\u001b[32m   1017\u001b[39m     name,\n\u001b[32m   1018\u001b[39m     pk=pk,\n\u001b[32m   (...)\u001b[39m\u001b[32m   1024\u001b[39m     hash_id_columns=hash_id_columns,\n\u001b[32m   1025\u001b[39m )\n",
      "\u001b[36mFile \u001b[39m\u001b[32m~/Desktop/nlp_toolbox/fastgpt/.venv/lib/python3.12/site-packages/apswutils/db.py:879\u001b[39m, in \u001b[36mDatabase.create_table_sql\u001b[39m\u001b[34m(self, name, columns, pk, foreign_keys, column_order, not_null, defaults, hash_id, hash_id_columns, extracts, if_not_exists, strict)\u001b[39m\n\u001b[32m    869\u001b[39m     \u001b[38;5;28;01mif\u001b[39;00m column_name \u001b[38;5;129;01min\u001b[39;00m foreign_keys_by_column:\n\u001b[32m    870\u001b[39m         column_extras.append(\n\u001b[32m    871\u001b[39m             \u001b[33m\"\u001b[39m\u001b[33mREFERENCES [\u001b[39m\u001b[38;5;132;01m{other_table}\u001b[39;00m\u001b[33m]([\u001b[39m\u001b[38;5;132;01m{other_column}\u001b[39;00m\u001b[33m]) ON UPDATE CASCADE ON DELETE CASCADE\u001b[39m\u001b[33m\"\u001b[39m.format(\n\u001b[32m    872\u001b[39m                 other_table=foreign_keys_by_column[column_name].other_table,\n\u001b[32m    873\u001b[39m                 other_column=foreign_keys_by_column[column_name].other_column,\n\u001b[32m    874\u001b[39m             )\n\u001b[32m    875\u001b[39m         )\n\u001b[32m    876\u001b[39m     column_defs.append(\n\u001b[32m    877\u001b[39m         \u001b[33m\"\u001b[39m\u001b[33m   [\u001b[39m\u001b[38;5;132;01m{column_name}\u001b[39;00m\u001b[33m] \u001b[39m\u001b[38;5;132;01m{column_type}\u001b[39;00m\u001b[38;5;132;01m{column_extras}\u001b[39;00m\u001b[33m\"\u001b[39m.format(\n\u001b[32m    878\u001b[39m             column_name=column_name,\n\u001b[32m--> \u001b[39m\u001b[32m879\u001b[39m             column_type=\u001b[43mCOLUMN_TYPE_MAPPING\u001b[49m\u001b[43m[\u001b[49m\u001b[43mcolumn_type\u001b[49m\u001b[43m]\u001b[49m,\n\u001b[32m    880\u001b[39m             column_extras=(\n\u001b[32m    881\u001b[39m                 (\u001b[33m\"\u001b[39m\u001b[33m \u001b[39m\u001b[33m\"\u001b[39m + \u001b[33m\"\u001b[39m\u001b[33m \u001b[39m\u001b[33m\"\u001b[39m.join(column_extras)) \u001b[38;5;28;01mif\u001b[39;00m column_extras \u001b[38;5;28;01melse\u001b[39;00m \u001b[33m\"\u001b[39m\u001b[33m\"\u001b[39m\n\u001b[32m    882\u001b[39m             ),\n\u001b[32m    883\u001b[39m         )\n\u001b[32m    884\u001b[39m     )\n\u001b[32m    885\u001b[39m extra_pk = \u001b[33m\"\u001b[39m\u001b[33m\"\u001b[39m\n\u001b[32m    886\u001b[39m \u001b[38;5;28;01mif\u001b[39;00m single_pk \u001b[38;5;129;01mis\u001b[39;00m \u001b[38;5;28;01mNone\u001b[39;00m \u001b[38;5;129;01mand\u001b[39;00m pk \u001b[38;5;129;01mand\u001b[39;00m \u001b[38;5;28mlen\u001b[39m(pk) > \u001b[32m1\u001b[39m:\n",
      "\u001b[31mKeyError\u001b[39m: typing.List"
     ]
    }
   ],
   "source": [
    "db = database(\":memory:\")\n",
    "\n",
    "\n",
    "@dataclass\n",
    "class Conversation:\n",
    "    id: str\n",
    "    messages: List\n",
    "    created_at: st\n",
    "    user_id: str\n",
    "\n",
    "\n",
    "dt = db.create(Conversation, pk=\"id\")\n"
   ]
  },
  {
   "cell_type": "code",
   "execution_count": null,
   "metadata": {},
   "outputs": [],
   "source": [
    "dt.insert(Conversation(messages=\"Hello, world!\", created_at=\"2021-01-01\", interro_selection={\"start_date\": \"2021-01-01\", \"end_date\": \"2021-01-01\"}))"
   ]
  }
 ],
 "metadata": {
  "kernelspec": {
   "display_name": ".venv",
   "language": "python",
   "name": "python3"
  },
  "language_info": {
   "codemirror_mode": {
    "name": "ipython",
    "version": 3
   },
   "file_extension": ".py",
   "mimetype": "text/x-python",
   "name": "python",
   "nbconvert_exporter": "python",
   "pygments_lexer": "ipython3",
   "version": "3.12.2"
  }
 },
 "nbformat": 4,
 "nbformat_minor": 2
}
